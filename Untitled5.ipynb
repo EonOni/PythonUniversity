{
 "cells": [
  {
   "cell_type": "code",
   "execution_count": 1,
   "metadata": {},
   "outputs": [],
   "source": [
    "import numpy as np\n",
    "from numpy.polynomial import polynomial as poly\n",
    "\n",
    "def polymul(x, y, modulus, poly_mod):\n",
    "    return np.int64(\n",
    "        np.round(poly.polydiv(poly.polymul(x, y) % modulus, poly_mod)[1] % modulus)\n",
    "    )\n",
    "\n",
    "\n",
    "def polyadd(x, y, modulus, poly_mod):\n",
    "    return np.int64(\n",
    "        np.round(poly.polydiv(poly.polyadd(x, y) % modulus, poly_mod)[1] % modulus)\n",
    "    )"
   ]
  },
  {
   "cell_type": "code",
   "execution_count": null,
   "metadata": {},
   "outputs": [],
   "source": []
  },
  {
   "cell_type": "code",
   "execution_count": 2,
   "metadata": {},
   "outputs": [],
   "source": [
    "def gen_binary_poly(size):\n",
    "    return np.random.randint(0, 2, size, dtype=np.int64)\n",
    "\n",
    "\n",
    "def gen_uniform_poly(size, modulus):\n",
    "    return np.random.randint(0, modulus, size, dtype=np.int64)\n",
    "\n",
    "\n",
    "def gen_normal_poly(size):\n",
    "    return np.int64(np.random.normal(0, 2, size=size))"
   ]
  },
  {
   "cell_type": "code",
   "execution_count": 3,
   "metadata": {},
   "outputs": [],
   "source": [
    "def keygen(size, modulus, poly_mod):\n",
    "    sk = gen_binary_poly(size)\n",
    "    a = gen_uniform_poly(size, modulus)\n",
    "    e = gen_normal_poly(size)\n",
    "    b = polyadd(polymul(-a, sk, modulus, poly_mod), -e, modulus, poly_mod)\n",
    "    return (b, a), sk"
   ]
  },
  {
   "cell_type": "code",
   "execution_count": 4,
   "metadata": {},
   "outputs": [],
   "source": [
    "def encrypt(pk, size, q, t, poly_mod, pt):\n",
    "    # encode the integer into a plaintext polynomial\n",
    "    m = np.array([pt] + [0] * (size - 1), dtype=np.int64) % t\n",
    "    delta = q // t\n",
    "    scaled_m = delta * m  % q\n",
    "    e1 = gen_normal_poly(size)\n",
    "    e2 = gen_normal_poly(size)\n",
    "    u = gen_binary_poly(size)\n",
    "    ct0 = polyadd(\n",
    "            polyadd(\n",
    "                polymul(pk[0], u, q, poly_mod),\n",
    "                e1, q, poly_mod),\n",
    "            scaled_m, q, poly_mod\n",
    "        )\n",
    "    ct1 = polyadd(\n",
    "            polymul(pk[1], u, q, poly_mod),\n",
    "            e2, q, poly_mod\n",
    "        )\n",
    "    return (ct0, ct1)"
   ]
  },
  {
   "cell_type": "code",
   "execution_count": 5,
   "metadata": {},
   "outputs": [],
   "source": [
    "def decrypt(sk, size, q, t, poly_mod, ct):\n",
    "    scaled_pt = polyadd(\n",
    "            polymul(ct[1], sk, q, poly_mod),\n",
    "            ct[0], q, poly_mod\n",
    "        )\n",
    "    decrypted_poly = np.round(scaled_pt * t / q) % t\n",
    "    return int(decrypted_poly[0])"
   ]
  },
  {
   "cell_type": "code",
   "execution_count": 6,
   "metadata": {},
   "outputs": [],
   "source": [
    "def add_plain(ct, pt, q, t, poly_mod):\n",
    "    size = len(poly_mod) - 1\n",
    "    # encode the integer into a plaintext polynomial\n",
    "    m = np.array([pt] + [0] * (size - 1), dtype=np.int64) % t\n",
    "    delta = q // t\n",
    "    scaled_m = delta * m  % q\n",
    "    new_ct0 = polyadd(ct[0], scaled_m, q, poly_mod)\n",
    "    return (new_ct0, ct[1])"
   ]
  },
  {
   "cell_type": "code",
   "execution_count": 7,
   "metadata": {},
   "outputs": [],
   "source": [
    "def mul_plain(ct, pt, q, t, poly_mod):\n",
    "    size = len(poly_mod) - 1\n",
    "    # encode the integer into a plaintext polynomial\n",
    "    m = np.array([pt] + [0] * (size - 1), dtype=np.int64) % t\n",
    "    new_c0 = polymul(ct[0], m, q, poly_mod)\n",
    "    new_c1 = polymul(ct[1], m, q, poly_mod)\n",
    "    return (new_c0, new_c1)"
   ]
  },
  {
   "cell_type": "code",
   "execution_count": 8,
   "metadata": {},
   "outputs": [
    {
     "name": "stdout",
     "output_type": "stream",
     "text": [
      "[+] Ciphertext ct1(73):\n",
      "\n",
      "\t ct1_0: [ 7850 17791  1783 31853  2450  3668  4642 16018  4775 29382 16844 10580\n",
      " 14919 29791 14149 28833]\n",
      "\t ct1_1: [32317 20874 20723  9534   853   811  1795 24584  4893 28261 29965 17457\n",
      " 17062   871 12522 11851]\n",
      "\n",
      "[+] Ciphertext ct2(20):\n",
      "\n",
      "\t ct1_0: [ 2605 13778 11082 32371 20037 24464  6556 15253 26072 22983  9244  8832\n",
      " 14584 32059 13428 11677]\n",
      "\t ct1_1: [16445 10884  6340 14233 14815 11097  1426 24492 20737 16138 19955 20368\n",
      " 26454 19074  1171 25826]\n",
      "\n",
      "[+] Decrypted ct3(ct1 + 7): 80\n",
      "[+] Decrypted ct4(ct2 * 5): 100\n"
     ]
    }
   ],
   "source": [
    "n = 2**4\n",
    "# ciphertext modulus\n",
    "q = 2**15\n",
    "# plaintext modulus\n",
    "t = 2**8\n",
    "# polynomial modulus\n",
    "poly_mod = np.array([1] + [0] * (n - 1) + [1])\n",
    "# Keygen\n",
    "pk, sk = keygen(n, q, poly_mod)\n",
    "# Encryption\n",
    "pt1, pt2 = 73, 20\n",
    "cst1, cst2 = 7, 5\n",
    "ct1 = encrypt(pk, n, q, t, poly_mod, pt1)\n",
    "ct2 = encrypt(pk, n, q, t, poly_mod, pt2)\n",
    "\n",
    "print(\"[+] Ciphertext ct1({}):\".format(pt1))\n",
    "print(\"\")\n",
    "print(\"\\t ct1_0:\", ct1[0])\n",
    "print(\"\\t ct1_1:\", ct1[1])\n",
    "print(\"\")\n",
    "print(\"[+] Ciphertext ct2({}):\".format(pt2))\n",
    "print(\"\")\n",
    "print(\"\\t ct1_0:\", ct2[0])\n",
    "print(\"\\t ct1_1:\", ct2[1])\n",
    "print(\"\")\n",
    "\n",
    "# Evaluation\n",
    "ct3 = add_plain(ct1, cst1, q, t, poly_mod)\n",
    "ct4 = mul_plain(ct2, cst2, q, t, poly_mod)\n",
    "\n",
    "# Decryption\n",
    "decrypted_ct3 = decrypt(sk, n, q, t, poly_mod, ct3)\n",
    "decrypted_ct4 = decrypt(sk, n, q, t, poly_mod, ct4)\n",
    "\n",
    "print(\"[+] Decrypted ct3(ct1 + {}): {}\".format(cst1, decrypted_ct3))\n",
    "print(\"[+] Decrypted ct4(ct2 * {}): {}\".format(cst2, decrypted_ct4))"
   ]
  },
  {
   "cell_type": "code",
   "execution_count": null,
   "metadata": {},
   "outputs": [],
   "source": []
  }
 ],
 "metadata": {
  "kernelspec": {
   "display_name": "Python 3",
   "language": "python",
   "name": "python3"
  },
  "language_info": {
   "codemirror_mode": {
    "name": "ipython",
    "version": 3
   },
   "file_extension": ".py",
   "mimetype": "text/x-python",
   "name": "python",
   "nbconvert_exporter": "python",
   "pygments_lexer": "ipython3",
   "version": "3.8.3"
  }
 },
 "nbformat": 4,
 "nbformat_minor": 4
}
