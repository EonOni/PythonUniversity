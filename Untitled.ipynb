{
 "cells": [
  {
   "cell_type": "code",
   "execution_count": 1,
   "metadata": {},
   "outputs": [],
   "source": [
    "import numpy as np\n",
    "import pandas as pd\n",
    "import matplotlib.pyplot as plt\n",
    "import seaborn as sns\n",
    "from sklearn.model_selection import train_test_split\n",
    "from sklearn.linear_model import LogisticRegression\n",
    "from sklearn.tree import DecisionTreeClassifier, export_graphviz\n",
    "from sklearn.metrics import accuracy_score, confusion_matrix, recall_score, roc_auc_score, precision_score, roc_curve"
   ]
  },
  {
   "cell_type": "code",
   "execution_count": 2,
   "metadata": {},
   "outputs": [],
   "source": [
    "df = pd.read_csv('CBC_4000.csv')"
   ]
  },
  {
   "cell_type": "code",
   "execution_count": 3,
   "metadata": {},
   "outputs": [
    {
     "data": {
      "text/html": [
       "<div>\n",
       "<style scoped>\n",
       "    .dataframe tbody tr th:only-of-type {\n",
       "        vertical-align: middle;\n",
       "    }\n",
       "\n",
       "    .dataframe tbody tr th {\n",
       "        vertical-align: top;\n",
       "    }\n",
       "\n",
       "    .dataframe thead th {\n",
       "        text-align: right;\n",
       "    }\n",
       "</style>\n",
       "<table border=\"1\" class=\"dataframe\">\n",
       "  <thead>\n",
       "    <tr style=\"text-align: right;\">\n",
       "      <th></th>\n",
       "      <th>Gender</th>\n",
       "      <th>Monetary</th>\n",
       "      <th>Recency</th>\n",
       "      <th>Frequency</th>\n",
       "      <th>FirstPurch</th>\n",
       "      <th>ChildBks</th>\n",
       "      <th>YouthBks</th>\n",
       "      <th>CookBks</th>\n",
       "      <th>DoItYBks</th>\n",
       "      <th>RefBks</th>\n",
       "      <th>ArtBks</th>\n",
       "      <th>GeoBks</th>\n",
       "      <th>ItalCook</th>\n",
       "      <th>ItalAtlas</th>\n",
       "      <th>ItalArt</th>\n",
       "      <th>Related_purch</th>\n",
       "      <th>M_code</th>\n",
       "      <th>F_code</th>\n",
       "      <th>R_code</th>\n",
       "      <th>Florence</th>\n",
       "    </tr>\n",
       "  </thead>\n",
       "  <tbody>\n",
       "    <tr>\n",
       "      <th>0</th>\n",
       "      <td>1</td>\n",
       "      <td>297.0</td>\n",
       "      <td>14.0</td>\n",
       "      <td>2.0</td>\n",
       "      <td>22.0</td>\n",
       "      <td>0.0</td>\n",
       "      <td>1.0</td>\n",
       "      <td>1.0</td>\n",
       "      <td>0.0</td>\n",
       "      <td>0.0</td>\n",
       "      <td>0.0</td>\n",
       "      <td>0.0</td>\n",
       "      <td>0.0</td>\n",
       "      <td>0.0</td>\n",
       "      <td>0.0</td>\n",
       "      <td>0.0</td>\n",
       "      <td>5.0</td>\n",
       "      <td>4.0</td>\n",
       "      <td>2.0</td>\n",
       "      <td>0.0</td>\n",
       "    </tr>\n",
       "    <tr>\n",
       "      <th>1</th>\n",
       "      <td>0</td>\n",
       "      <td>128.0</td>\n",
       "      <td>8.0</td>\n",
       "      <td>2.0</td>\n",
       "      <td>10.0</td>\n",
       "      <td>0.0</td>\n",
       "      <td>0.0</td>\n",
       "      <td>0.0</td>\n",
       "      <td>0.0</td>\n",
       "      <td>0.0</td>\n",
       "      <td>0.0</td>\n",
       "      <td>0.0</td>\n",
       "      <td>0.0</td>\n",
       "      <td>0.0</td>\n",
       "      <td>0.0</td>\n",
       "      <td>0.0</td>\n",
       "      <td>4.0</td>\n",
       "      <td>3.0</td>\n",
       "      <td>2.0</td>\n",
       "      <td>0.0</td>\n",
       "    </tr>\n",
       "    <tr>\n",
       "      <th>2</th>\n",
       "      <td>1</td>\n",
       "      <td>138.0</td>\n",
       "      <td>22.0</td>\n",
       "      <td>7.0</td>\n",
       "      <td>56.0</td>\n",
       "      <td>2.0</td>\n",
       "      <td>1.0</td>\n",
       "      <td>2.0</td>\n",
       "      <td>0.0</td>\n",
       "      <td>1.0</td>\n",
       "      <td>0.0</td>\n",
       "      <td>1.0</td>\n",
       "      <td>1.0</td>\n",
       "      <td>0.0</td>\n",
       "      <td>0.0</td>\n",
       "      <td>2.0</td>\n",
       "      <td>4.0</td>\n",
       "      <td>4.0</td>\n",
       "      <td>3.0</td>\n",
       "      <td>0.0</td>\n",
       "    </tr>\n",
       "    <tr>\n",
       "      <th>3</th>\n",
       "      <td>1</td>\n",
       "      <td>228.0</td>\n",
       "      <td>2.0</td>\n",
       "      <td>1.0</td>\n",
       "      <td>2.0</td>\n",
       "      <td>0.0</td>\n",
       "      <td>0.0</td>\n",
       "      <td>0.0</td>\n",
       "      <td>0.0</td>\n",
       "      <td>0.0</td>\n",
       "      <td>0.0</td>\n",
       "      <td>0.0</td>\n",
       "      <td>0.0</td>\n",
       "      <td>0.0</td>\n",
       "      <td>0.0</td>\n",
       "      <td>0.0</td>\n",
       "      <td>5.0</td>\n",
       "      <td>1.0</td>\n",
       "      <td>1.0</td>\n",
       "      <td>0.0</td>\n",
       "    </tr>\n",
       "    <tr>\n",
       "      <th>4</th>\n",
       "      <td>1</td>\n",
       "      <td>257.0</td>\n",
       "      <td>10.0</td>\n",
       "      <td>1.0</td>\n",
       "      <td>10.0</td>\n",
       "      <td>0.0</td>\n",
       "      <td>0.0</td>\n",
       "      <td>0.0</td>\n",
       "      <td>0.0</td>\n",
       "      <td>0.0</td>\n",
       "      <td>0.0</td>\n",
       "      <td>0.0</td>\n",
       "      <td>0.0</td>\n",
       "      <td>0.0</td>\n",
       "      <td>0.0</td>\n",
       "      <td>0.0</td>\n",
       "      <td>5.0</td>\n",
       "      <td>3.0</td>\n",
       "      <td>1.0</td>\n",
       "      <td>0.0</td>\n",
       "    </tr>\n",
       "    <tr>\n",
       "      <th>...</th>\n",
       "      <td>...</td>\n",
       "      <td>...</td>\n",
       "      <td>...</td>\n",
       "      <td>...</td>\n",
       "      <td>...</td>\n",
       "      <td>...</td>\n",
       "      <td>...</td>\n",
       "      <td>...</td>\n",
       "      <td>...</td>\n",
       "      <td>...</td>\n",
       "      <td>...</td>\n",
       "      <td>...</td>\n",
       "      <td>...</td>\n",
       "      <td>...</td>\n",
       "      <td>...</td>\n",
       "      <td>...</td>\n",
       "      <td>...</td>\n",
       "      <td>...</td>\n",
       "      <td>...</td>\n",
       "      <td>...</td>\n",
       "    </tr>\n",
       "    <tr>\n",
       "      <th>3995</th>\n",
       "      <td>0</td>\n",
       "      <td>141.0</td>\n",
       "      <td>2.0</td>\n",
       "      <td>2.0</td>\n",
       "      <td>6.0</td>\n",
       "      <td>0.0</td>\n",
       "      <td>0.0</td>\n",
       "      <td>0.0</td>\n",
       "      <td>0.0</td>\n",
       "      <td>0.0</td>\n",
       "      <td>0.0</td>\n",
       "      <td>0.0</td>\n",
       "      <td>0.0</td>\n",
       "      <td>0.0</td>\n",
       "      <td>0.0</td>\n",
       "      <td>0.0</td>\n",
       "      <td>4.0</td>\n",
       "      <td>1.0</td>\n",
       "      <td>2.0</td>\n",
       "      <td>0.0</td>\n",
       "    </tr>\n",
       "    <tr>\n",
       "      <th>3996</th>\n",
       "      <td>1</td>\n",
       "      <td>357.0</td>\n",
       "      <td>16.0</td>\n",
       "      <td>9.0</td>\n",
       "      <td>52.0</td>\n",
       "      <td>1.0</td>\n",
       "      <td>1.0</td>\n",
       "      <td>2.0</td>\n",
       "      <td>2.0</td>\n",
       "      <td>2.0</td>\n",
       "      <td>0.0</td>\n",
       "      <td>1.0</td>\n",
       "      <td>0.0</td>\n",
       "      <td>0.0</td>\n",
       "      <td>0.0</td>\n",
       "      <td>1.0</td>\n",
       "      <td>5.0</td>\n",
       "      <td>4.0</td>\n",
       "      <td>3.0</td>\n",
       "      <td>0.0</td>\n",
       "    </tr>\n",
       "    <tr>\n",
       "      <th>3997</th>\n",
       "      <td>0</td>\n",
       "      <td>48.0</td>\n",
       "      <td>12.0</td>\n",
       "      <td>1.0</td>\n",
       "      <td>12.0</td>\n",
       "      <td>0.0</td>\n",
       "      <td>0.0</td>\n",
       "      <td>0.0</td>\n",
       "      <td>0.0</td>\n",
       "      <td>0.0</td>\n",
       "      <td>0.0</td>\n",
       "      <td>0.0</td>\n",
       "      <td>0.0</td>\n",
       "      <td>0.0</td>\n",
       "      <td>0.0</td>\n",
       "      <td>0.0</td>\n",
       "      <td>2.0</td>\n",
       "      <td>3.0</td>\n",
       "      <td>1.0</td>\n",
       "      <td>0.0</td>\n",
       "    </tr>\n",
       "    <tr>\n",
       "      <th>3998</th>\n",
       "      <td>0</td>\n",
       "      <td>214.0</td>\n",
       "      <td>14.0</td>\n",
       "      <td>7.0</td>\n",
       "      <td>38.0</td>\n",
       "      <td>1.0</td>\n",
       "      <td>1.0</td>\n",
       "      <td>3.0</td>\n",
       "      <td>1.0</td>\n",
       "      <td>0.0</td>\n",
       "      <td>0.0</td>\n",
       "      <td>0.0</td>\n",
       "      <td>0.0</td>\n",
       "      <td>0.0</td>\n",
       "      <td>0.0</td>\n",
       "      <td>0.0</td>\n",
       "      <td>5.0</td>\n",
       "      <td>4.0</td>\n",
       "      <td>3.0</td>\n",
       "      <td>0.0</td>\n",
       "    </tr>\n",
       "    <tr>\n",
       "      <th>3999</th>\n",
       "      <td>1</td>\n",
       "      <td>114.0</td>\n",
       "      <td>10.0</td>\n",
       "      <td>2.0</td>\n",
       "      <td>12.0</td>\n",
       "      <td>0.0</td>\n",
       "      <td>0.0</td>\n",
       "      <td>0.0</td>\n",
       "      <td>0.0</td>\n",
       "      <td>0.0</td>\n",
       "      <td>0.0</td>\n",
       "      <td>1.0</td>\n",
       "      <td>0.0</td>\n",
       "      <td>0.0</td>\n",
       "      <td>0.0</td>\n",
       "      <td>1.0</td>\n",
       "      <td>4.0</td>\n",
       "      <td>3.0</td>\n",
       "      <td>2.0</td>\n",
       "      <td>0.0</td>\n",
       "    </tr>\n",
       "  </tbody>\n",
       "</table>\n",
       "<p>4000 rows × 20 columns</p>\n",
       "</div>"
      ],
      "text/plain": [
       "      Gender  Monetary  Recency  Frequency  FirstPurch  ChildBks  YouthBks  \\\n",
       "0          1     297.0     14.0        2.0        22.0       0.0       1.0   \n",
       "1          0     128.0      8.0        2.0        10.0       0.0       0.0   \n",
       "2          1     138.0     22.0        7.0        56.0       2.0       1.0   \n",
       "3          1     228.0      2.0        1.0         2.0       0.0       0.0   \n",
       "4          1     257.0     10.0        1.0        10.0       0.0       0.0   \n",
       "...      ...       ...      ...        ...         ...       ...       ...   \n",
       "3995       0     141.0      2.0        2.0         6.0       0.0       0.0   \n",
       "3996       1     357.0     16.0        9.0        52.0       1.0       1.0   \n",
       "3997       0      48.0     12.0        1.0        12.0       0.0       0.0   \n",
       "3998       0     214.0     14.0        7.0        38.0       1.0       1.0   \n",
       "3999       1     114.0     10.0        2.0        12.0       0.0       0.0   \n",
       "\n",
       "      CookBks  DoItYBks  RefBks  ArtBks  GeoBks  ItalCook  ItalAtlas  ItalArt  \\\n",
       "0         1.0       0.0     0.0     0.0     0.0       0.0        0.0      0.0   \n",
       "1         0.0       0.0     0.0     0.0     0.0       0.0        0.0      0.0   \n",
       "2         2.0       0.0     1.0     0.0     1.0       1.0        0.0      0.0   \n",
       "3         0.0       0.0     0.0     0.0     0.0       0.0        0.0      0.0   \n",
       "4         0.0       0.0     0.0     0.0     0.0       0.0        0.0      0.0   \n",
       "...       ...       ...     ...     ...     ...       ...        ...      ...   \n",
       "3995      0.0       0.0     0.0     0.0     0.0       0.0        0.0      0.0   \n",
       "3996      2.0       2.0     2.0     0.0     1.0       0.0        0.0      0.0   \n",
       "3997      0.0       0.0     0.0     0.0     0.0       0.0        0.0      0.0   \n",
       "3998      3.0       1.0     0.0     0.0     0.0       0.0        0.0      0.0   \n",
       "3999      0.0       0.0     0.0     0.0     1.0       0.0        0.0      0.0   \n",
       "\n",
       "      Related_purch  M_code  F_code  R_code  Florence  \n",
       "0               0.0     5.0     4.0     2.0       0.0  \n",
       "1               0.0     4.0     3.0     2.0       0.0  \n",
       "2               2.0     4.0     4.0     3.0       0.0  \n",
       "3               0.0     5.0     1.0     1.0       0.0  \n",
       "4               0.0     5.0     3.0     1.0       0.0  \n",
       "...             ...     ...     ...     ...       ...  \n",
       "3995            0.0     4.0     1.0     2.0       0.0  \n",
       "3996            1.0     5.0     4.0     3.0       0.0  \n",
       "3997            0.0     2.0     3.0     1.0       0.0  \n",
       "3998            0.0     5.0     4.0     3.0       0.0  \n",
       "3999            1.0     4.0     3.0     2.0       0.0  \n",
       "\n",
       "[4000 rows x 20 columns]"
      ]
     },
     "execution_count": 3,
     "metadata": {},
     "output_type": "execute_result"
    }
   ],
   "source": [
    "df"
   ]
  },
  {
   "cell_type": "code",
   "execution_count": 4,
   "metadata": {},
   "outputs": [
    {
     "name": "stdout",
     "output_type": "stream",
     "text": [
      "<class 'pandas.core.frame.DataFrame'>\n",
      "RangeIndex: 4000 entries, 0 to 3999\n",
      "Data columns (total 20 columns):\n",
      " #   Column         Non-Null Count  Dtype  \n",
      "---  ------         --------------  -----  \n",
      " 0   Gender         4000 non-null   int64  \n",
      " 1   Monetary       4000 non-null   float64\n",
      " 2   Recency        4000 non-null   float64\n",
      " 3   Frequency      4000 non-null   float64\n",
      " 4   FirstPurch     4000 non-null   float64\n",
      " 5   ChildBks       4000 non-null   float64\n",
      " 6   YouthBks       4000 non-null   float64\n",
      " 7   CookBks        4000 non-null   float64\n",
      " 8   DoItYBks       4000 non-null   float64\n",
      " 9   RefBks         4000 non-null   float64\n",
      " 10  ArtBks         4000 non-null   float64\n",
      " 11  GeoBks         4000 non-null   float64\n",
      " 12  ItalCook       4000 non-null   float64\n",
      " 13  ItalAtlas      4000 non-null   float64\n",
      " 14  ItalArt        4000 non-null   float64\n",
      " 15  Related_purch  4000 non-null   float64\n",
      " 16  M_code         4000 non-null   float64\n",
      " 17  F_code         4000 non-null   float64\n",
      " 18  R_code         4000 non-null   float64\n",
      " 19  Florence       4000 non-null   float64\n",
      "dtypes: float64(19), int64(1)\n",
      "memory usage: 625.1 KB\n"
     ]
    }
   ],
   "source": [
    "df.info()"
   ]
  },
  {
   "cell_type": "code",
   "execution_count": 5,
   "metadata": {},
   "outputs": [],
   "source": [
    "x = df.drop('Florence', axis=1)\n",
    "y = df['Florence']"
   ]
  },
  {
   "cell_type": "code",
   "execution_count": 6,
   "metadata": {},
   "outputs": [],
   "source": [
    "X_train, X_test, y_train, y_test = train_test_split(x, y, test_size = 0.3)"
   ]
  },
  {
   "cell_type": "code",
   "execution_count": 7,
   "metadata": {},
   "outputs": [
    {
     "name": "stderr",
     "output_type": "stream",
     "text": [
      "C:\\Users\\User\\anaconda3\\lib\\site-packages\\sklearn\\linear_model\\_logistic.py:762: ConvergenceWarning: lbfgs failed to converge (status=1):\n",
      "STOP: TOTAL NO. of ITERATIONS REACHED LIMIT.\n",
      "\n",
      "Increase the number of iterations (max_iter) or scale the data as shown in:\n",
      "    https://scikit-learn.org/stable/modules/preprocessing.html\n",
      "Please also refer to the documentation for alternative solver options:\n",
      "    https://scikit-learn.org/stable/modules/linear_model.html#logistic-regression\n",
      "  n_iter_i = _check_optimize_result(\n"
     ]
    }
   ],
   "source": [
    "lr = LogisticRegression()\n",
    "result = lr.fit(X_train,y_train)"
   ]
  },
  {
   "cell_type": "code",
   "execution_count": 8,
   "metadata": {},
   "outputs": [],
   "source": [
    "lr_predictions = lr.predict_proba(X_test)[:, 1]"
   ]
  },
  {
   "cell_type": "code",
   "execution_count": 9,
   "metadata": {},
   "outputs": [],
   "source": [
    "lr_predictions_2 = np.where(lr_predictions > 0.2, 1, 0)\n",
    "lr_predictions_5 = np.where(lr_predictions > 0.5, 1, 0)\n",
    "lr_predictions_8 = np.where(lr_predictions > 0.8, 1, 0)"
   ]
  },
  {
   "cell_type": "code",
   "execution_count": 10,
   "metadata": {},
   "outputs": [
    {
     "name": "stdout",
     "output_type": "stream",
     "text": [
      "Gender          -0.5947957588097873\n",
      "Monetary        0.0014362569870526244\n",
      "Recency         -0.025627202982721253\n",
      "Frequency       0.1536277234126897\n",
      "FirstPurch      0.017287617374693323\n",
      "ChildBks        -0.20203699086422142\n",
      "YouthBks        -0.09868908657175268\n",
      "CookBks         -0.40423515687735984\n",
      "DoItYBks        -0.20333679326425264\n",
      "RefBks          0.024889808075201143\n",
      "ArtBks          0.19100252328469253\n",
      "GeoBks          -0.01394196781267042\n",
      "ItalCook        -0.12858583678625382\n",
      "ItalAtlas       -0.00316549207677008\n",
      "ItalArt         0.13008656299810653\n",
      "Related_purch   0.17539578960725358\n",
      "M_code          -0.33902550295451883\n",
      "F_code          -0.14639387848548796\n",
      "R_code          -0.21608372965502298\n"
     ]
    }
   ],
   "source": [
    "for i, j in zip(X_train.columns, lr.coef_[0]):\n",
    "    print(i.ljust(15), j)"
   ]
  },
  {
   "cell_type": "code",
   "execution_count": 11,
   "metadata": {},
   "outputs": [
    {
     "name": "stdout",
     "output_type": "stream",
     "text": [
      "Оценка точности для 0.2:  0.8766666666666667\n",
      "Оценка точности для 0.5:  0.92\n",
      "Оценка точности для 0.8:  0.9183333333333333\n"
     ]
    }
   ],
   "source": [
    "print('Оценка точности для 0.2: ', accuracy_score(y_test, lr_predictions_2))\n",
    "print('Оценка точности для 0.5: ', accuracy_score(y_test, lr_predictions_5))\n",
    "print('Оценка точности для 0.8: ', accuracy_score(y_test, lr_predictions_8))"
   ]
  },
  {
   "cell_type": "code",
   "execution_count": 12,
   "metadata": {},
   "outputs": [
    {
     "data": {
      "text/plain": [
       "Text(0.5, 1.0, 'Матрицы ошибок для 0.8')"
      ]
     },
     "execution_count": 12,
     "metadata": {},
     "output_type": "execute_result"
    },
    {
     "data": {
      "image/png": "[encoded data removed]",
      "text/plain": [
       "<Figure size 1440x360 with 6 Axes>"
      ]
     },
     "metadata": {
      "needs_background": "light"
     },
     "output_type": "display_data"
    }
   ],
   "source": [
    "fig, ax = plt.subplots(1, 3, figsize=(20, 5))\n",
    "sns.heatmap(confusion_matrix(y_test, lr_predictions_2), annot=True, fmt='.0f', cmap='Blues', ax=ax[0])\n",
    "ax[0].set_title('Матрицы ошибок для 0.2')\n",
    "sns.heatmap(confusion_matrix(y_test, lr_predictions_5), annot=True, fmt='.0f', cmap='Blues', ax=ax[1])\n",
    "ax[1].set_title('Матрицы ошибок для 0.5')\n",
    "sns.heatmap(confusion_matrix(y_test, lr_predictions_8), annot=True, fmt='.0f', cmap='Blues', ax=ax[2])\n",
    "ax[2].set_title('Матрицы ошибок для 0.8')\n",
    "# fig.show()"
   ]
  },
  {
   "cell_type": "code",
   "execution_count": 13,
   "metadata": {},
   "outputs": [
    {
     "data": {
      "image/png": "[encoded data removed]",
      "text/plain": [
       "<Figure size 432x288 with 1 Axes>"
      ]
     },
     "metadata": {
      "needs_background": "light"
     },
     "output_type": "display_data"
    }
   ],
   "source": [
    "logit_roc_auc = roc_auc_score(y_test, lr.predict(X_test))\n",
    "fpr, tpr, thresholds = roc_curve(y_test, lr_predictions)\n",
    "plt.figure()\n",
    "plt.plot(fpr, tpr, label='Logistic Regression (area = %0.2f)' % logit_roc_auc)\n",
    "plt.plot([0, 1], [0, 1],'r--')\n",
    "plt.xlim([0.0, 1.0])\n",
    "plt.ylim([0.0, 1.05])\n",
    "plt.xlabel('Ложноположительный показатель')\n",
    "plt.ylabel('Истинноположительный показатель')\n",
    "plt.title('Рабочая характеристика приемника')\n",
    "plt.legend(loc=\"lower right\")\n",
    "plt.show()\n"
   ]
  },
  {
   "cell_type": "code",
   "execution_count": 14,
   "metadata": {},
   "outputs": [],
   "source": [
    "dt = DecisionTreeClassifier()"
   ]
  },
  {
   "cell_type": "code",
   "execution_count": 15,
   "metadata": {},
   "outputs": [
    {
     "data": {
      "text/plain": [
       "DecisionTreeClassifier()"
      ]
     },
     "execution_count": 15,
     "metadata": {},
     "output_type": "execute_result"
    }
   ],
   "source": [
    "dt.fit(X_train, y_train)"
   ]
  },
  {
   "cell_type": "code",
   "execution_count": 16,
   "metadata": {},
   "outputs": [],
   "source": [
    "dt_predictions = dt.predict_proba(X_test)[:, 1]"
   ]
  },
  {
   "cell_type": "code",
   "execution_count": 17,
   "metadata": {},
   "outputs": [],
   "source": [
    "dt_predictions_2 = np.where(dt_predictions > 0.2, 1, 0)\n",
    "dt_predictions_5 = np.where(dt_predictions > 0.5, 1, 0)\n",
    "dt_predictions_8 = np.where(dt_predictions > 0.8, 1, 0)"
   ]
  },
  {
   "cell_type": "code",
   "execution_count": 19,
   "metadata": {},
   "outputs": [
    {
     "name": "stdout",
     "output_type": "stream",
     "text": [
      "Оценка точности для 0.2:  0.8583333333333333\n",
      "Оценка точности для 0.5:  0.86\n",
      "Оценка точности для 0.8:  0.86\n"
     ]
    }
   ],
   "source": [
    "print('Оценка точности для 0.2: ', accuracy_score(y_test, dt_predictions_2))\n",
    "print('Оценка точности для 0.5: ', accuracy_score(y_test, dt_predictions_5))\n",
    "print('Оценка точности для 0.8: ', accuracy_score(y_test, dt_predictions_8))"
   ]
  },
  {
   "cell_type": "code",
   "execution_count": 20,
   "metadata": {},
   "outputs": [
    {
     "data": {
      "text/plain": [
       "Text(0.5, 1.0, 'Матрицы ошибок для 0.8')"
      ]
     },
     "execution_count": 20,
     "metadata": {},
     "output_type": "execute_result"
    },
    {
     "data": {
      "image/png": "[encoded data removed]",
      "text/plain": [
       "<Figure size 1440x360 with 6 Axes>"
      ]
     },
     "metadata": {
      "needs_background": "light"
     },
     "output_type": "display_data"
    }
   ],
   "source": [
    "fig, ax = plt.subplots(1, 3, figsize=(20, 5))\n",
    "sns.heatmap(confusion_matrix(y_test, dt_predictions_2), annot=True, fmt='.0f', cmap='Blues', ax=ax[0])\n",
    "ax[0].set_title('Матрицы ошибок для 0.2')\n",
    "sns.heatmap(confusion_matrix(y_test, dt_predictions_5), annot=True, fmt='.0f', cmap='Blues', ax=ax[1])\n",
    "ax[1].set_title('Матрицы ошибок для 0.5')\n",
    "sns.heatmap(confusion_matrix(y_test, dt_predictions_8), annot=True, fmt='.0f', cmap='Blues', ax=ax[2])\n",
    "ax[2].set_title('Матрицы ошибок для 0.8')\n",
    "# fig.show()"
   ]
  },
  {
   "cell_type": "code",
   "execution_count": 22,
   "metadata": {},
   "outputs": [
    {
     "data": {
      "image/png": "[encoded data removed]",
      "text/plain": [
       "<Figure size 432x288 with 1 Axes>"
      ]
     },
     "metadata": {
      "needs_background": "light"
     },
     "output_type": "display_data"
    }
   ],
   "source": [
    "logit_roc_auc = roc_auc_score(y_test, dt.predict(X_test))\n",
    "fpr, tpr, thresholds = roc_curve(y_test, dt_predictions)\n",
    "plt.figure()\n",
    "plt.plot(fpr, tpr, label='Decision Tree Classifier (area = %0.2f)' % logit_roc_auc)\n",
    "plt.plot([0, 1], [0, 1],'r--')\n",
    "plt.xlim([0.0, 1.0])\n",
    "plt.ylim([0.0, 1.05])\n",
    "plt.xlabel('Ложноположительный показатель')\n",
    "plt.ylabel('Истинноположительный показатель')\n",
    "plt.title('Рабочая характеристика приемника')\n",
    "plt.legend(loc=\"lower right\")\n",
    "plt.show()\n"
   ]
  },
  {
   "cell_type": "code",
   "execution_count": null,
   "metadata": {},
   "outputs": [],
   "source": []
  }
 ],
 "metadata": {
  "kernelspec": {
   "display_name": "Python 3",
   "language": "python",
   "name": "python3"
  },
  "language_info": {
   "codemirror_mode": {
    "name": "ipython",
    "version": 3
   },
   "file_extension": ".py",
   "mimetype": "text/x-python",
   "name": "python",
   "nbconvert_exporter": "python",
   "pygments_lexer": "ipython3",
   "version": "3.8.3"
  }
 },
 "nbformat": 4,
 "nbformat_minor": 4
}
