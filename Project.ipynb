{
 "cells": [
  {
   "cell_type": "code",
   "execution_count": 5,
   "metadata": {},
   "outputs": [],
   "source": [
    "import pandas as pd\n",
    "import numpy as np\n",
    "from sklearn.ensemble import RandomForestClassifier\n",
    "from sklearn.model_selection import train_test_split\n",
    "from sklearn.metrics import r2_score\n",
    "import matplotlib.pyplot as plt\n",
    "import seaborn as sns"
   ]
  },
  {
   "cell_type": "code",
   "execution_count": 6,
   "metadata": {},
   "outputs": [
    {
     "data": {
      "text/html": [
       "<div>\n",
       "<style scoped>\n",
       "    .dataframe tbody tr th:only-of-type {\n",
       "        vertical-align: middle;\n",
       "    }\n",
       "\n",
       "    .dataframe tbody tr th {\n",
       "        vertical-align: top;\n",
       "    }\n",
       "\n",
       "    .dataframe thead th {\n",
       "        text-align: right;\n",
       "    }\n",
       "</style>\n",
       "<table border=\"1\" class=\"dataframe\">\n",
       "  <thead>\n",
       "    <tr style=\"text-align: right;\">\n",
       "      <th></th>\n",
       "      <th>id</th>\n",
       "      <th>Review</th>\n",
       "      <th>Star</th>\n",
       "      <th>Value</th>\n",
       "      <th>brandId</th>\n",
       "      <th>brandName</th>\n",
       "      <th>goodsName</th>\n",
       "      <th>isSoldOut</th>\n",
       "      <th>link</th>\n",
       "      <th>lowQuantity</th>\n",
       "      <th>...</th>\n",
       "      <th>Длина кабеля</th>\n",
       "      <th>Количество температурных режимов</th>\n",
       "      <th>Материал корпуса</th>\n",
       "      <th>Модель</th>\n",
       "      <th>Мощность устройства</th>\n",
       "      <th>Объем чайника</th>\n",
       "      <th>Страна бренда</th>\n",
       "      <th>Страна производитель</th>\n",
       "      <th>Цвет</th>\n",
       "      <th>sale_june</th>\n",
       "    </tr>\n",
       "  </thead>\n",
       "  <tbody>\n",
       "    <tr>\n",
       "      <th>67</th>\n",
       "      <td>4267106</td>\n",
       "      <td>7</td>\n",
       "      <td>4</td>\n",
       "      <td>1592</td>\n",
       "      <td>3217</td>\n",
       "      <td>Vitesse</td>\n",
       "      <td>Чайник электрический 1,7л</td>\n",
       "      <td>0</td>\n",
       "      <td>https://www.wildberries.ru/catalog/4267106/det...</td>\n",
       "      <td>0</td>\n",
       "      <td>...</td>\n",
       "      <td>100.0</td>\n",
       "      <td>1</td>\n",
       "      <td>стекло</td>\n",
       "      <td>VS-168</td>\n",
       "      <td>2200.0</td>\n",
       "      <td>1.7</td>\n",
       "      <td>Франция</td>\n",
       "      <td>Китай</td>\n",
       "      <td>красный</td>\n",
       "      <td>0</td>\n",
       "    </tr>\n",
       "    <tr>\n",
       "      <th>496</th>\n",
       "      <td>10307537</td>\n",
       "      <td>51</td>\n",
       "      <td>4</td>\n",
       "      <td>3690</td>\n",
       "      <td>34103</td>\n",
       "      <td>TESLER</td>\n",
       "      <td>Чайник электрический</td>\n",
       "      <td>0</td>\n",
       "      <td>https://www.wildberries.ru/catalog/10307537/de...</td>\n",
       "      <td>0</td>\n",
       "      <td>...</td>\n",
       "      <td>80.0</td>\n",
       "      <td>1</td>\n",
       "      <td>нержавеющая сталь</td>\n",
       "      <td>KT-1755</td>\n",
       "      <td>2000.0</td>\n",
       "      <td>1.7</td>\n",
       "      <td>Россия</td>\n",
       "      <td>Китай</td>\n",
       "      <td>оранжевый</td>\n",
       "      <td>10</td>\n",
       "    </tr>\n",
       "    <tr>\n",
       "      <th>25</th>\n",
       "      <td>3390007</td>\n",
       "      <td>4</td>\n",
       "      <td>4</td>\n",
       "      <td>2555</td>\n",
       "      <td>17106</td>\n",
       "      <td>Vitek</td>\n",
       "      <td>Чайник VT-7006W</td>\n",
       "      <td>0</td>\n",
       "      <td>https://www.wildberries.ru/catalog/3390007/det...</td>\n",
       "      <td>0</td>\n",
       "      <td>...</td>\n",
       "      <td>75.0</td>\n",
       "      <td>1</td>\n",
       "      <td>пластик</td>\n",
       "      <td>VT-7006</td>\n",
       "      <td>2150.0</td>\n",
       "      <td>1.7</td>\n",
       "      <td>Россия</td>\n",
       "      <td>Китай</td>\n",
       "      <td>белый, малиновый</td>\n",
       "      <td>0</td>\n",
       "    </tr>\n",
       "    <tr>\n",
       "      <th>230</th>\n",
       "      <td>6873624</td>\n",
       "      <td>2</td>\n",
       "      <td>3</td>\n",
       "      <td>3190</td>\n",
       "      <td>16102</td>\n",
       "      <td>Kitfort</td>\n",
       "      <td>Чайник КТ-638</td>\n",
       "      <td>0</td>\n",
       "      <td>https://www.wildberries.ru/catalog/6873624/det...</td>\n",
       "      <td>1</td>\n",
       "      <td>...</td>\n",
       "      <td>74.0</td>\n",
       "      <td>4</td>\n",
       "      <td>NaN</td>\n",
       "      <td>КТ-638</td>\n",
       "      <td>2200.0</td>\n",
       "      <td>1.5</td>\n",
       "      <td>Россия</td>\n",
       "      <td>Китай</td>\n",
       "      <td>серебристый</td>\n",
       "      <td>0</td>\n",
       "    </tr>\n",
       "    <tr>\n",
       "      <th>396</th>\n",
       "      <td>8900888</td>\n",
       "      <td>3</td>\n",
       "      <td>3</td>\n",
       "      <td>1190</td>\n",
       "      <td>29396</td>\n",
       "      <td>IRIT</td>\n",
       "      <td>Чайник стеклянный электрический (серый) 1236-01</td>\n",
       "      <td>0</td>\n",
       "      <td>https://www.wildberries.ru/catalog/8900888/det...</td>\n",
       "      <td>1</td>\n",
       "      <td>...</td>\n",
       "      <td>62.0</td>\n",
       "      <td>1</td>\n",
       "      <td>NaN</td>\n",
       "      <td>1236-01</td>\n",
       "      <td>1500.0</td>\n",
       "      <td>1.8</td>\n",
       "      <td>Россия</td>\n",
       "      <td>Китай</td>\n",
       "      <td>серый, серебристый</td>\n",
       "      <td>0</td>\n",
       "    </tr>\n",
       "  </tbody>\n",
       "</table>\n",
       "<p>5 rows × 24 columns</p>\n",
       "</div>"
      ],
      "text/plain": [
       "           id  Review  Star  Value  brandId brandName  \\\n",
       "67    4267106       7     4   1592     3217   Vitesse   \n",
       "496  10307537      51     4   3690    34103    TESLER   \n",
       "25    3390007       4     4   2555    17106     Vitek   \n",
       "230   6873624       2     3   3190    16102   Kitfort   \n",
       "396   8900888       3     3   1190    29396      IRIT   \n",
       "\n",
       "                                           goodsName  isSoldOut  \\\n",
       "67                         Чайник электрический 1,7л          0   \n",
       "496                             Чайник электрический          0   \n",
       "25                                   Чайник VT-7006W          0   \n",
       "230                                    Чайник КТ-638          0   \n",
       "396  Чайник стеклянный электрический (серый) 1236-01          0   \n",
       "\n",
       "                                                  link  lowQuantity  ...  \\\n",
       "67   https://www.wildberries.ru/catalog/4267106/det...            0  ...   \n",
       "496  https://www.wildberries.ru/catalog/10307537/de...            0  ...   \n",
       "25   https://www.wildberries.ru/catalog/3390007/det...            0  ...   \n",
       "230  https://www.wildberries.ru/catalog/6873624/det...            1  ...   \n",
       "396  https://www.wildberries.ru/catalog/8900888/det...            1  ...   \n",
       "\n",
       "     Длина кабеля  Количество температурных режимов   Материал корпуса  \\\n",
       "67          100.0                                 1             стекло   \n",
       "496          80.0                                 1  нержавеющая сталь   \n",
       "25           75.0                                 1            пластик   \n",
       "230          74.0                                 4                NaN   \n",
       "396          62.0                                 1                NaN   \n",
       "\n",
       "      Модель  Мощность устройства Объем чайника Страна бренда  \\\n",
       "67    VS-168               2200.0           1.7       Франция   \n",
       "496  KT-1755               2000.0           1.7        Россия   \n",
       "25   VT-7006               2150.0           1.7        Россия   \n",
       "230   КТ-638               2200.0           1.5        Россия   \n",
       "396  1236-01               1500.0           1.8        Россия   \n",
       "\n",
       "    Страна производитель                Цвет  sale_june  \n",
       "67                 Китай             красный          0  \n",
       "496                Китай           оранжевый         10  \n",
       "25                 Китай    белый, малиновый          0  \n",
       "230                Китай         серебристый          0  \n",
       "396                Китай  серый, серебристый          0  \n",
       "\n",
       "[5 rows x 24 columns]"
      ]
     },
     "execution_count": 6,
     "metadata": {},
     "output_type": "execute_result"
    }
   ],
   "source": [
    "df=pd.read_excel('wb_teapot.xlsx', sheets='Sheet1')  \n",
    "df.sample(5) #эта команда выведет пять случайных строк таблицы, таблица не отобразиться полностью."
   ]
  },
  {
   "cell_type": "code",
   "execution_count": 7,
   "metadata": {},
   "outputs": [
    {
     "name": "stdout",
     "output_type": "stream",
     "text": [
      "<class 'pandas.core.frame.DataFrame'>\n",
      "RangeIndex: 642 entries, 0 to 641\n",
      "Data columns (total 24 columns):\n",
      " #   Column                            Non-Null Count  Dtype  \n",
      "---  ------                            --------------  -----  \n",
      " 0   id                                642 non-null    int64  \n",
      " 1   Review                            642 non-null    int64  \n",
      " 2   Star                              642 non-null    int64  \n",
      " 3   Value                             642 non-null    int64  \n",
      " 4   brandId                           642 non-null    int64  \n",
      " 5   brandName                         642 non-null    object \n",
      " 6   goodsName                         642 non-null    object \n",
      " 7   isSoldOut                         642 non-null    int64  \n",
      " 8   link                              642 non-null    object \n",
      " 9   lowQuantity                       642 non-null    int64  \n",
      " 10  ordersCount                       642 non-null    int64  \n",
      " 11  price                             642 non-null    int64  \n",
      " 12  qualityRate                       642 non-null    int64  \n",
      " 13  Вес с упаковкой (кг)              637 non-null    float64\n",
      " 14  Длина кабеля                      625 non-null    float64\n",
      " 15  Количество температурных режимов  614 non-null    object \n",
      " 16  Материал корпуса                  336 non-null    object \n",
      " 17  Модель                            637 non-null    object \n",
      " 18  Мощность устройства               634 non-null    float64\n",
      " 19  Объем чайника                     641 non-null    float64\n",
      " 20  Страна бренда                     642 non-null    object \n",
      " 21  Страна производитель              642 non-null    object \n",
      " 22  Цвет                              642 non-null    object \n",
      " 23  sale_june                         642 non-null    int64  \n",
      "dtypes: float64(4), int64(11), object(9)\n",
      "memory usage: 120.5+ KB\n"
     ]
    }
   ],
   "source": [
    "df.info() #общая информация о столбцах, типах и пропущенных значениях\n"
   ]
  },
  {
   "cell_type": "code",
   "execution_count": 8,
   "metadata": {},
   "outputs": [
    {
     "data": {
      "text/html": [
       "<div>\n",
       "<style scoped>\n",
       "    .dataframe tbody tr th:only-of-type {\n",
       "        vertical-align: middle;\n",
       "    }\n",
       "\n",
       "    .dataframe tbody tr th {\n",
       "        vertical-align: top;\n",
       "    }\n",
       "\n",
       "    .dataframe thead th {\n",
       "        text-align: right;\n",
       "    }\n",
       "</style>\n",
       "<table border=\"1\" class=\"dataframe\">\n",
       "  <thead>\n",
       "    <tr style=\"text-align: right;\">\n",
       "      <th></th>\n",
       "      <th>id</th>\n",
       "      <th>Review</th>\n",
       "      <th>Star</th>\n",
       "      <th>Value</th>\n",
       "      <th>brandId</th>\n",
       "      <th>isSoldOut</th>\n",
       "      <th>lowQuantity</th>\n",
       "      <th>ordersCount</th>\n",
       "      <th>price</th>\n",
       "      <th>qualityRate</th>\n",
       "      <th>Вес с упаковкой (кг)</th>\n",
       "      <th>Длина кабеля</th>\n",
       "      <th>Мощность устройства</th>\n",
       "      <th>Объем чайника</th>\n",
       "      <th>sale_june</th>\n",
       "    </tr>\n",
       "  </thead>\n",
       "  <tbody>\n",
       "    <tr>\n",
       "      <th>count</th>\n",
       "      <td>6.420000e+02</td>\n",
       "      <td>642.000000</td>\n",
       "      <td>642.000000</td>\n",
       "      <td>642.000000</td>\n",
       "      <td>642.000000</td>\n",
       "      <td>642.000000</td>\n",
       "      <td>642.000000</td>\n",
       "      <td>642.000000</td>\n",
       "      <td>642.000000</td>\n",
       "      <td>642.000000</td>\n",
       "      <td>637.000000</td>\n",
       "      <td>625.000000</td>\n",
       "      <td>634.000000</td>\n",
       "      <td>641.000000</td>\n",
       "      <td>642.000000</td>\n",
       "    </tr>\n",
       "    <tr>\n",
       "      <th>mean</th>\n",
       "      <td>7.835927e+06</td>\n",
       "      <td>32.908100</td>\n",
       "      <td>3.819315</td>\n",
       "      <td>2210.987539</td>\n",
       "      <td>25560.778816</td>\n",
       "      <td>0.004673</td>\n",
       "      <td>0.073209</td>\n",
       "      <td>280.514019</td>\n",
       "      <td>2783.130841</td>\n",
       "      <td>97.364486</td>\n",
       "      <td>1.363077</td>\n",
       "      <td>72.977920</td>\n",
       "      <td>1994.779180</td>\n",
       "      <td>1.668019</td>\n",
       "      <td>14.725857</td>\n",
       "    </tr>\n",
       "    <tr>\n",
       "      <th>std</th>\n",
       "      <td>2.499043e+06</td>\n",
       "      <td>64.158267</td>\n",
       "      <td>0.960240</td>\n",
       "      <td>1451.388317</td>\n",
       "      <td>13756.815222</td>\n",
       "      <td>0.068252</td>\n",
       "      <td>0.260682</td>\n",
       "      <td>712.203553</td>\n",
       "      <td>1831.338995</td>\n",
       "      <td>8.153051</td>\n",
       "      <td>0.665768</td>\n",
       "      <td>77.105167</td>\n",
       "      <td>391.228811</td>\n",
       "      <td>0.339104</td>\n",
       "      <td>40.779031</td>\n",
       "    </tr>\n",
       "    <tr>\n",
       "      <th>min</th>\n",
       "      <td>2.171393e+06</td>\n",
       "      <td>0.000000</td>\n",
       "      <td>0.000000</td>\n",
       "      <td>0.000000</td>\n",
       "      <td>599.000000</td>\n",
       "      <td>0.000000</td>\n",
       "      <td>0.000000</td>\n",
       "      <td>20.000000</td>\n",
       "      <td>0.000000</td>\n",
       "      <td>0.000000</td>\n",
       "      <td>0.180000</td>\n",
       "      <td>0.600000</td>\n",
       "      <td>500.000000</td>\n",
       "      <td>0.500000</td>\n",
       "      <td>0.000000</td>\n",
       "    </tr>\n",
       "    <tr>\n",
       "      <th>25%</th>\n",
       "      <td>5.824747e+06</td>\n",
       "      <td>5.000000</td>\n",
       "      <td>3.000000</td>\n",
       "      <td>1205.250000</td>\n",
       "      <td>16102.000000</td>\n",
       "      <td>0.000000</td>\n",
       "      <td>0.000000</td>\n",
       "      <td>40.000000</td>\n",
       "      <td>1547.750000</td>\n",
       "      <td>97.000000</td>\n",
       "      <td>1.050000</td>\n",
       "      <td>63.000000</td>\n",
       "      <td>1800.000000</td>\n",
       "      <td>1.700000</td>\n",
       "      <td>0.000000</td>\n",
       "    </tr>\n",
       "    <tr>\n",
       "      <th>50%</th>\n",
       "      <td>8.123429e+06</td>\n",
       "      <td>11.000000</td>\n",
       "      <td>4.000000</td>\n",
       "      <td>1802.000000</td>\n",
       "      <td>20577.000000</td>\n",
       "      <td>0.000000</td>\n",
       "      <td>0.000000</td>\n",
       "      <td>90.000000</td>\n",
       "      <td>2254.500000</td>\n",
       "      <td>100.000000</td>\n",
       "      <td>1.300000</td>\n",
       "      <td>70.000000</td>\n",
       "      <td>2200.000000</td>\n",
       "      <td>1.700000</td>\n",
       "      <td>0.000000</td>\n",
       "    </tr>\n",
       "    <tr>\n",
       "      <th>75%</th>\n",
       "      <td>1.002333e+07</td>\n",
       "      <td>31.000000</td>\n",
       "      <td>4.000000</td>\n",
       "      <td>2788.750000</td>\n",
       "      <td>34103.000000</td>\n",
       "      <td>0.000000</td>\n",
       "      <td>0.000000</td>\n",
       "      <td>200.000000</td>\n",
       "      <td>3490.000000</td>\n",
       "      <td>100.000000</td>\n",
       "      <td>1.500000</td>\n",
       "      <td>75.000000</td>\n",
       "      <td>2200.000000</td>\n",
       "      <td>1.800000</td>\n",
       "      <td>10.000000</td>\n",
       "    </tr>\n",
       "    <tr>\n",
       "      <th>max</th>\n",
       "      <td>1.239497e+07</td>\n",
       "      <td>535.000000</td>\n",
       "      <td>5.000000</td>\n",
       "      <td>11790.000000</td>\n",
       "      <td>72224.000000</td>\n",
       "      <td>1.000000</td>\n",
       "      <td>1.000000</td>\n",
       "      <td>10300.000000</td>\n",
       "      <td>11790.000000</td>\n",
       "      <td>100.000000</td>\n",
       "      <td>11.400000</td>\n",
       "      <td>1000.000000</td>\n",
       "      <td>3000.000000</td>\n",
       "      <td>5.000000</td>\n",
       "      <td>400.000000</td>\n",
       "    </tr>\n",
       "  </tbody>\n",
       "</table>\n",
       "</div>"
      ],
      "text/plain": [
       "                 id      Review        Star         Value       brandId  \\\n",
       "count  6.420000e+02  642.000000  642.000000    642.000000    642.000000   \n",
       "mean   7.835927e+06   32.908100    3.819315   2210.987539  25560.778816   \n",
       "std    2.499043e+06   64.158267    0.960240   1451.388317  13756.815222   \n",
       "min    2.171393e+06    0.000000    0.000000      0.000000    599.000000   \n",
       "25%    5.824747e+06    5.000000    3.000000   1205.250000  16102.000000   \n",
       "50%    8.123429e+06   11.000000    4.000000   1802.000000  20577.000000   \n",
       "75%    1.002333e+07   31.000000    4.000000   2788.750000  34103.000000   \n",
       "max    1.239497e+07  535.000000    5.000000  11790.000000  72224.000000   \n",
       "\n",
       "        isSoldOut  lowQuantity   ordersCount         price  qualityRate  \\\n",
       "count  642.000000   642.000000    642.000000    642.000000   642.000000   \n",
       "mean     0.004673     0.073209    280.514019   2783.130841    97.364486   \n",
       "std      0.068252     0.260682    712.203553   1831.338995     8.153051   \n",
       "min      0.000000     0.000000     20.000000      0.000000     0.000000   \n",
       "25%      0.000000     0.000000     40.000000   1547.750000    97.000000   \n",
       "50%      0.000000     0.000000     90.000000   2254.500000   100.000000   \n",
       "75%      0.000000     0.000000    200.000000   3490.000000   100.000000   \n",
       "max      1.000000     1.000000  10300.000000  11790.000000   100.000000   \n",
       "\n",
       "       Вес с упаковкой (кг)  Длина кабеля  Мощность устройства  Объем чайника  \\\n",
       "count            637.000000    625.000000           634.000000     641.000000   \n",
       "mean               1.363077     72.977920          1994.779180       1.668019   \n",
       "std                0.665768     77.105167           391.228811       0.339104   \n",
       "min                0.180000      0.600000           500.000000       0.500000   \n",
       "25%                1.050000     63.000000          1800.000000       1.700000   \n",
       "50%                1.300000     70.000000          2200.000000       1.700000   \n",
       "75%                1.500000     75.000000          2200.000000       1.800000   \n",
       "max               11.400000   1000.000000          3000.000000       5.000000   \n",
       "\n",
       "        sale_june  \n",
       "count  642.000000  \n",
       "mean    14.725857  \n",
       "std     40.779031  \n",
       "min      0.000000  \n",
       "25%      0.000000  \n",
       "50%      0.000000  \n",
       "75%     10.000000  \n",
       "max    400.000000  "
      ]
     },
     "execution_count": 8,
     "metadata": {},
     "output_type": "execute_result"
    }
   ],
   "source": [
    "df.describe() #общие статистики\n"
   ]
  },
  {
   "cell_type": "code",
   "execution_count": 9,
   "metadata": {},
   "outputs": [
    {
     "data": {
      "image/png": "[encoded data removed]",
      "text/plain": [
       "<Figure size 1440x288 with 1 Axes>"
      ]
     },
     "metadata": {
      "needs_background": "light"
     },
     "output_type": "display_data"
    }
   ],
   "source": [
    "df['Review'].hist(bins=30, figsize=(20,4)); # как распределено количество отзывов\n"
   ]
  },
  {
   "cell_type": "code",
   "execution_count": 10,
   "metadata": {},
   "outputs": [
    {
     "data": {
      "text/plain": [
       "329"
      ]
     },
     "execution_count": 10,
     "metadata": {},
     "output_type": "execute_result"
    }
   ],
   "source": [
    "df[df['Review']>10]['sale_june'].count()\n"
   ]
  },
  {
   "cell_type": "markdown",
   "metadata": {},
   "source": [
    "Попробуем предсказать будет ли у модели больше 10 отзывов или нет. В этмо случае у нас получается сбалансированный набор данных. Ниже выведем список столбцов и отберем те, которые будем использовать для классификатора.\n",
    "\n"
   ]
  },
  {
   "cell_type": "code",
   "execution_count": 11,
   "metadata": {},
   "outputs": [
    {
     "data": {
      "text/plain": [
       "Index(['id', 'Review', 'Star', 'Value', 'brandId', 'brandName', 'goodsName',\n",
       "       'isSoldOut', 'link', 'lowQuantity', 'ordersCount', 'price',\n",
       "       'qualityRate', 'Вес с упаковкой (кг)', 'Длина кабеля',\n",
       "       'Количество температурных режимов', 'Материал корпуса', 'Модель',\n",
       "       'Мощность устройства', 'Объем чайника', 'Страна бренда',\n",
       "       'Страна производитель', 'Цвет', 'sale_june'],\n",
       "      dtype='object')"
      ]
     },
     "execution_count": 11,
     "metadata": {},
     "output_type": "execute_result"
    }
   ],
   "source": [
    "df.columns # список столбцов нашего датасета \n"
   ]
  },
  {
   "cell_type": "code",
   "execution_count": 12,
   "metadata": {},
   "outputs": [],
   "source": [
    "col=['Star', 'Value', 'brandId', 'ordersCount', \n",
    "       'qualityRate', 'Вес с упаковкой (кг)', 'Длина кабеля',\n",
    "       'Количество температурных режимов', 'Материал корпуса',\n",
    "       'Мощность устройства', 'Объем чайника', 'Страна бренда',\n",
    "       'Страна производитель', 'Цвет']  \n",
    "\n",
    "# код ниже преобразует категорийные данные в переменные и заполняет пропуски наиболее вероятным значением\n",
    "X=pd.DataFrame()\n",
    "for i in col:\n",
    "    if df[i].dtype.name != 'object':\n",
    "        X[i]=df[i].copy()\n",
    "        X.loc[X[i].isna(), i]=X[i].median()\n",
    "    else:\n",
    "        X[i]=pd.factorize(df[i])[0]"
   ]
  },
  {
   "cell_type": "code",
   "execution_count": 13,
   "metadata": {},
   "outputs": [
    {
     "data": {
      "text/html": [
       "<div>\n",
       "<style scoped>\n",
       "    .dataframe tbody tr th:only-of-type {\n",
       "        vertical-align: middle;\n",
       "    }\n",
       "\n",
       "    .dataframe tbody tr th {\n",
       "        vertical-align: top;\n",
       "    }\n",
       "\n",
       "    .dataframe thead th {\n",
       "        text-align: right;\n",
       "    }\n",
       "</style>\n",
       "<table border=\"1\" class=\"dataframe\">\n",
       "  <thead>\n",
       "    <tr style=\"text-align: right;\">\n",
       "      <th></th>\n",
       "      <th>Star</th>\n",
       "      <th>Value</th>\n",
       "      <th>brandId</th>\n",
       "      <th>ordersCount</th>\n",
       "      <th>qualityRate</th>\n",
       "      <th>Вес с упаковкой (кг)</th>\n",
       "      <th>Длина кабеля</th>\n",
       "      <th>Количество температурных режимов</th>\n",
       "      <th>Материал корпуса</th>\n",
       "      <th>Мощность устройства</th>\n",
       "      <th>Объем чайника</th>\n",
       "      <th>Страна бренда</th>\n",
       "      <th>Страна производитель</th>\n",
       "      <th>Цвет</th>\n",
       "    </tr>\n",
       "  </thead>\n",
       "  <tbody>\n",
       "    <tr>\n",
       "      <th>39</th>\n",
       "      <td>3.0</td>\n",
       "      <td>825.0</td>\n",
       "      <td>16111.0</td>\n",
       "      <td>100.0</td>\n",
       "      <td>100.0</td>\n",
       "      <td>0.88</td>\n",
       "      <td>60.0</td>\n",
       "      <td>0</td>\n",
       "      <td>-1</td>\n",
       "      <td>1700.0</td>\n",
       "      <td>1.8</td>\n",
       "      <td>5</td>\n",
       "      <td>0</td>\n",
       "      <td>5</td>\n",
       "    </tr>\n",
       "    <tr>\n",
       "      <th>337</th>\n",
       "      <td>5.0</td>\n",
       "      <td>4090.0</td>\n",
       "      <td>16102.0</td>\n",
       "      <td>90.0</td>\n",
       "      <td>100.0</td>\n",
       "      <td>1.60</td>\n",
       "      <td>70.0</td>\n",
       "      <td>11</td>\n",
       "      <td>-1</td>\n",
       "      <td>2000.0</td>\n",
       "      <td>1.5</td>\n",
       "      <td>1</td>\n",
       "      <td>0</td>\n",
       "      <td>24</td>\n",
       "    </tr>\n",
       "    <tr>\n",
       "      <th>582</th>\n",
       "      <td>3.0</td>\n",
       "      <td>1794.0</td>\n",
       "      <td>14619.0</td>\n",
       "      <td>20.0</td>\n",
       "      <td>100.0</td>\n",
       "      <td>1.04</td>\n",
       "      <td>75.0</td>\n",
       "      <td>0</td>\n",
       "      <td>-1</td>\n",
       "      <td>2200.0</td>\n",
       "      <td>1.5</td>\n",
       "      <td>4</td>\n",
       "      <td>0</td>\n",
       "      <td>36</td>\n",
       "    </tr>\n",
       "  </tbody>\n",
       "</table>\n",
       "</div>"
      ],
      "text/plain": [
       "     Star   Value  brandId  ordersCount  qualityRate  Вес с упаковкой (кг)  \\\n",
       "39    3.0   825.0  16111.0        100.0        100.0                  0.88   \n",
       "337   5.0  4090.0  16102.0         90.0        100.0                  1.60   \n",
       "582   3.0  1794.0  14619.0         20.0        100.0                  1.04   \n",
       "\n",
       "     Длина кабеля  Количество температурных режимов  Материал корпуса  \\\n",
       "39           60.0                                 0                -1   \n",
       "337          70.0                                11                -1   \n",
       "582          75.0                                 0                -1   \n",
       "\n",
       "     Мощность устройства  Объем чайника  Страна бренда  Страна производитель  \\\n",
       "39                1700.0            1.8              5                     0   \n",
       "337               2000.0            1.5              1                     0   \n",
       "582               2200.0            1.5              4                     0   \n",
       "\n",
       "     Цвет  \n",
       "39      5  \n",
       "337    24  \n",
       "582    36  "
      ]
     },
     "execution_count": 13,
     "metadata": {},
     "output_type": "execute_result"
    }
   ],
   "source": [
    "# результат, подготовленные данные\n",
    "X.sample(3)"
   ]
  },
  {
   "cell_type": "code",
   "execution_count": 14,
   "metadata": {},
   "outputs": [],
   "source": [
    "# Y будет равен нулю если отзывов 10 и меньше, и единице если больше 10\n",
    "Y=df['Review'].apply(lambda x: 1 if x>10 else 0).values"
   ]
  },
  {
   "cell_type": "code",
   "execution_count": 15,
   "metadata": {},
   "outputs": [],
   "source": [
    "#разделим набор на тренировочный и тестовый\n",
    "X_train, X_test, y_train, y_test = train_test_split(X, Y, test_size=0.2, random_state=42)"
   ]
  },
  {
   "cell_type": "code",
   "execution_count": 16,
   "metadata": {},
   "outputs": [
    {
     "data": {
      "text/plain": [
       "RandomForestClassifier()"
      ]
     },
     "execution_count": 16,
     "metadata": {},
     "output_type": "execute_result"
    }
   ],
   "source": [
    "# создаем и тренируем модель, отдельно можно провести подбор параметров для повышения точности\n",
    "model = RandomForestClassifier(n_estimators=100)\n",
    "model.fit(X_train, y_train)"
   ]
  },
  {
   "cell_type": "code",
   "execution_count": 17,
   "metadata": {},
   "outputs": [
    {
     "name": "stdout",
     "output_type": "stream",
     "text": [
      "Значимость признака:\n"
     ]
    },
    {
     "data": {
      "text/plain": [
       "[[0.3628, 'ordersCount'],\n",
       " [0.0835, 'brandId'],\n",
       " [0.0749, 'Star'],\n",
       " [0.0665, 'Страна бренда'],\n",
       " [0.0654, 'Цвет'],\n",
       " [0.0644, 'Value'],\n",
       " [0.063, 'Вес с упаковкой (кг)'],\n",
       " [0.0512, 'qualityRate'],\n",
       " [0.0486, 'Длина кабеля'],\n",
       " [0.0347, 'Материал корпуса'],\n",
       " [0.0319, 'Мощность устройства'],\n",
       " [0.0287, 'Объем чайника'],\n",
       " [0.0226, 'Количество температурных режимов'],\n",
       " [0.0017, 'Страна производитель']]"
      ]
     },
     "execution_count": 17,
     "metadata": {},
     "output_type": "execute_result"
    }
   ],
   "source": [
    "importances = model.feature_importances_\n",
    "indices = np.argsort(importances)[::-1]\n",
    "\n",
    "ar_f=[]\n",
    "for f, idx in enumerate(indices):\n",
    "    ar_f.append([round(importances[idx],4), col[idx]])\n",
    "print(\"Значимость признака:\")\n",
    "ar_f.sort(reverse=True)\n",
    "ar_f"
   ]
  },
  {
   "cell_type": "code",
   "execution_count": 18,
   "metadata": {},
   "outputs": [
    {
     "data": {
      "image/png": "[encoded data removed]",
      "text/plain": [
       "<Figure size 576x576 with 1 Axes>"
      ]
     },
     "metadata": {
      "needs_background": "light"
     },
     "output_type": "display_data"
    }
   ],
   "source": [
    "#удобнее отобразить на столбчатой диаграмме\n",
    "d_first = len(col)\n",
    "plt.figure(figsize=(8, 8))\n",
    "plt.title(\"Значимость признака\")\n",
    "plt.bar(range(d_first), importances[indices[:d_first]], align='center')\n",
    "plt.xticks(range(d_first), np.array(col)[indices[:d_first]], rotation=90)\n",
    "plt.xlim([-1, d_first]);"
   ]
  },
  {
   "cell_type": "code",
   "execution_count": 19,
   "metadata": {},
   "outputs": [
    {
     "data": {
      "text/plain": [
       "array([1, 1, 0, 0, 1, 1, 1, 0, 1, 1, 1, 0, 0, 1, 1, 0, 1, 0, 1, 1, 0, 0,\n",
       "       1, 1, 0, 0, 0, 1, 1, 1, 0, 1, 1, 0, 0, 0, 1, 1, 1, 1, 1, 0, 0, 1,\n",
       "       1, 1, 0, 1, 0, 1, 0, 0, 1, 0, 1, 1, 0, 1, 1, 0, 1, 1, 0, 0, 0, 0,\n",
       "       1, 0, 0, 0, 0, 1, 0, 1, 0, 0, 1, 0, 1, 1, 0, 1, 0, 1, 1, 0, 1, 0,\n",
       "       0, 1, 1, 0, 1, 1, 1, 0, 1, 0, 1, 0, 1, 1, 1, 1, 1, 1, 0, 1, 1, 0,\n",
       "       1, 0, 1, 1, 0, 0, 0, 0, 1, 0, 0, 0, 1, 1, 1, 1, 1, 0, 1],\n",
       "      dtype=int64)"
      ]
     },
     "execution_count": 19,
     "metadata": {},
     "output_type": "execute_result"
    }
   ],
   "source": [
    "# как выглядит результат предсказания для тестовой выборки\n",
    "model.predict(X_test)"
   ]
  },
  {
   "cell_type": "code",
   "execution_count": 20,
   "metadata": {},
   "outputs": [
    {
     "data": {
      "text/plain": [
       "array([1, 1, 0, 1, 1, 1, 1, 0, 1, 1, 1, 1, 0, 1, 1, 0, 1, 0, 1, 1, 0, 0,\n",
       "       1, 1, 0, 1, 0, 1, 1, 0, 0, 0, 0, 0, 0, 0, 1, 1, 1, 1, 0, 0, 0, 1,\n",
       "       1, 1, 0, 1, 0, 1, 0, 0, 1, 0, 0, 1, 0, 1, 1, 0, 0, 1, 1, 0, 0, 0,\n",
       "       1, 0, 0, 0, 0, 1, 1, 1, 0, 1, 1, 0, 1, 1, 0, 1, 0, 1, 1, 0, 1, 0,\n",
       "       0, 1, 1, 0, 1, 0, 1, 0, 1, 0, 0, 0, 1, 1, 1, 1, 0, 0, 0, 1, 1, 0,\n",
       "       1, 0, 1, 1, 0, 0, 1, 0, 1, 0, 0, 0, 1, 1, 1, 1, 0, 0, 1],\n",
       "      dtype=int64)"
      ]
     },
     "execution_count": 20,
     "metadata": {},
     "output_type": "execute_result"
    }
   ],
   "source": [
    "# как выглядядт результаты тестового набора\n",
    "y_test"
   ]
  },
  {
   "cell_type": "code",
   "execution_count": 21,
   "metadata": {},
   "outputs": [
    {
     "data": {
      "text/plain": [
       "0.4342105263157895"
      ]
     },
     "execution_count": 21,
     "metadata": {},
     "output_type": "execute_result"
    }
   ],
   "source": [
    "# метрика r2\n",
    "r2_score(model.predict(X_test), y_test)"
   ]
  },
  {
   "cell_type": "code",
   "execution_count": 22,
   "metadata": {},
   "outputs": [
    {
     "name": "stdout",
     "output_type": "stream",
     "text": [
      "Accuracy: 0.8604651162790697\n"
     ]
    }
   ],
   "source": [
    "from sklearn import metrics\n",
    "# метрика, насколько точно мы предсказываем правильные значения как для 0, так и 1\n",
    "print(\"Accuracy:\",metrics.accuracy_score(y_test, model.predict(X_test)))"
   ]
  },
  {
   "cell_type": "code",
   "execution_count": 23,
   "metadata": {},
   "outputs": [
    {
     "data": {
      "text/plain": [
       "array([[50, 11],\n",
       "       [ 7, 61]], dtype=int64)"
      ]
     },
     "execution_count": 23,
     "metadata": {},
     "output_type": "execute_result"
    }
   ],
   "source": [
    "# матрица количества правильно и ошибочно угаданных классов\n",
    "from sklearn.metrics import confusion_matrix\n",
    "confusion_matrix(y_test, model.predict(X_test))"
   ]
  },
  {
   "cell_type": "code",
   "execution_count": 24,
   "metadata": {},
   "outputs": [
    {
     "data": {
      "image/png": "[encoded data removed]",
      "text/plain": [
       "<Figure size 1152x504 with 2 Axes>"
      ]
     },
     "metadata": {
      "needs_background": "light"
     },
     "output_type": "display_data"
    }
   ],
   "source": [
    "# так же матрица в процентах и более изящном виде\n",
    "matrix = confusion_matrix(y_test, model.predict(X_test))\n",
    "matrix = matrix.astype('float') / matrix.sum(axis=1)[:, np.newaxis]\n",
    "\n",
    "# Build the plot\n",
    "plt.figure(figsize=(16,7))\n",
    "sns.set(font_scale=1.4)\n",
    "sns.heatmap(matrix, annot=True, annot_kws={'size':10},\n",
    "            cmap=plt.cm.Greens, linewidths=0.2)\n",
    "\n",
    "# Add labels to the plot\n",
    "class_names = ['<10', '>10']                  \n",
    "tick_marks = np.arange(len(class_names))\n",
    "tick_marks2 = tick_marks + 0.5\n",
    "plt.xticks(tick_marks, class_names, rotation=25)\n",
    "plt.yticks(tick_marks2, class_names, rotation=0)\n",
    "plt.xlabel('Предсказанные классы')\n",
    "plt.ylabel('Истинные классы')\n",
    "plt.title('Confusion Matrix for Random Forest Model')\n",
    "plt.show()"
   ]
  },
  {
   "cell_type": "code",
   "execution_count": 25,
   "metadata": {},
   "outputs": [
    {
     "name": "stdout",
     "output_type": "stream",
     "text": [
      "              precision    recall  f1-score   support\n",
      "\n",
      "           0       0.88      0.82      0.85        61\n",
      "           1       0.85      0.90      0.87        68\n",
      "\n",
      "    accuracy                           0.86       129\n",
      "   macro avg       0.86      0.86      0.86       129\n",
      "weighted avg       0.86      0.86      0.86       129\n",
      "\n"
     ]
    }
   ],
   "source": [
    "# Еще базовые метрики оценки точности модели\n",
    "from sklearn.metrics import classification_report\n",
    "print(classification_report(y_test, model.predict(X_test)))"
   ]
  },
  {
   "cell_type": "code",
   "execution_count": 26,
   "metadata": {},
   "outputs": [],
   "source": [
    "from sklearn.ensemble import GradientBoostingClassifier"
   ]
  },
  {
   "cell_type": "code",
   "execution_count": 27,
   "metadata": {},
   "outputs": [
    {
     "data": {
      "text/plain": [
       "GradientBoostingClassifier(learning_rate=1.0, max_depth=1, random_state=0)"
      ]
     },
     "execution_count": 27,
     "metadata": {},
     "output_type": "execute_result"
    }
   ],
   "source": [
    "gb = GradientBoostingClassifier(n_estimators=100, learning_rate=1.0, max_depth=1, random_state=0)\n",
    "gb.fit(X_train, y_train)"
   ]
  },
  {
   "cell_type": "code",
   "execution_count": 28,
   "metadata": {},
   "outputs": [],
   "source": [
    "gb_predictions = gb.predict_proba(X_test)[:, 1]"
   ]
  },
  {
   "cell_type": "code",
   "execution_count": 29,
   "metadata": {},
   "outputs": [],
   "source": [
    "gb_predictions_2 = np.where(gb_predictions > 0.2, 1, 0)\n",
    "gb_predictions_5 = np.where(gb_predictions > 0.5, 1, 0)\n",
    "gb_predictions_8 = np.where(gb_predictions > 0.8, 1, 0)"
   ]
  },
  {
   "cell_type": "code",
   "execution_count": 30,
   "metadata": {},
   "outputs": [],
   "source": [
    "confusion_matrix_gb_2 = confusion_matrix(y_test, gb_predictions_2)\n",
    "confusion_matrix_gb_5 = confusion_matrix(y_test, gb_predictions_5)\n",
    "confusion_matrix_gb_8 = confusion_matrix(y_test, gb_predictions_8)"
   ]
  },
  {
   "cell_type": "code",
   "execution_count": 31,
   "metadata": {},
   "outputs": [
    {
     "data": {
      "text/plain": [
       "Text(0.5, 1.0, 'Матрицы ошибок для 0.8')"
      ]
     },
     "execution_count": 31,
     "metadata": {},
     "output_type": "execute_result"
    },
    {
     "data": {
      "image/png": "[encoded data removed]",
      "text/plain": [
       "<Figure size 1440x360 with 6 Axes>"
      ]
     },
     "metadata": {},
     "output_type": "display_data"
    }
   ],
   "source": [
    "fig, ax = plt.subplots(1, 3, figsize=(20, 5))\n",
    "sns.heatmap(confusion_matrix_gb_2, annot=True, fmt='.0f', cmap='Blues', ax=ax[0])\n",
    "ax[0].set_title('Матрицы ошибок для 0.2')\n",
    "sns.heatmap(confusion_matrix_gb_5, annot=True, fmt='.0f', cmap='Blues', ax=ax[1])\n",
    "ax[1].set_title('Матрицы ошибок для 0.5')\n",
    "sns.heatmap(confusion_matrix_gb_8, annot=True, fmt='.0f', cmap='Blues', ax=ax[2])\n",
    "ax[2].set_title('Матрицы ошибок для 0.8')"
   ]
  },
  {
   "cell_type": "code",
   "execution_count": null,
   "metadata": {},
   "outputs": [],
   "source": [
    " "
   ]
  },
  {
   "cell_type": "code",
   "execution_count": null,
   "metadata": {},
   "outputs": [],
   "source": []
  }
 ],
 "metadata": {
  "kernelspec": {
   "display_name": "Python 3",
   "language": "python",
   "name": "python3"
  },
  "language_info": {
   "codemirror_mode": {
    "name": "ipython",
    "version": 3
   },
   "file_extension": ".py",
   "mimetype": "text/x-python",
   "name": "python",
   "nbconvert_exporter": "python",
   "pygments_lexer": "ipython3",
   "version": "3.8.3"
  }
 },
 "nbformat": 4,
 "nbformat_minor": 4
}
