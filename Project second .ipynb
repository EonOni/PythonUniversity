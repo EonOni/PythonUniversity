{
 "cells": [
  {
   "cell_type": "code",
   "execution_count": 1,
   "metadata": {},
   "outputs": [],
   "source": [
    "import pandas as pd\n",
    "import numpy as np\n",
    "from sklearn.metrics import confusion_matrix\n",
    "from sklearn.model_selection import train_test_split\n",
    "from sklearn.ensemble import GradientBoostingClassifier\n"
   ]
  },
  {
   "cell_type": "code",
   "execution_count": 2,
   "metadata": {},
   "outputs": [],
   "source": [
    "def CreateDataFrame(N):\n",
    " columns = ['a','b','c','y']\n",
    " df = pd.DataFrame(columns=columns)\n",
    " for i in range(N):\n",
    "  a = np.random.randint(10)\n",
    "  b = np.random.randint(20)\n",
    "  c = np.random.randint(5)\n",
    "  y = \"normal\"\n",
    "  if((a+b+c)>25):\n",
    "   y=\"high\"\n",
    "  elif((a+b+c)<12):\n",
    "   y= \"low\"\n",
    "\n",
    "  df.loc[i]= [a, b, c, y]\n",
    " return df"
   ]
  },
  {
   "cell_type": "code",
   "execution_count": 3,
   "metadata": {},
   "outputs": [
    {
     "data": {
      "text/html": [
       "<div>\n",
       "<style scoped>\n",
       "    .dataframe tbody tr th:only-of-type {\n",
       "        vertical-align: middle;\n",
       "    }\n",
       "\n",
       "    .dataframe tbody tr th {\n",
       "        vertical-align: top;\n",
       "    }\n",
       "\n",
       "    .dataframe thead th {\n",
       "        text-align: right;\n",
       "    }\n",
       "</style>\n",
       "<table border=\"1\" class=\"dataframe\">\n",
       "  <thead>\n",
       "    <tr style=\"text-align: right;\">\n",
       "      <th></th>\n",
       "      <th>a</th>\n",
       "      <th>b</th>\n",
       "      <th>c</th>\n",
       "      <th>y</th>\n",
       "    </tr>\n",
       "  </thead>\n",
       "  <tbody>\n",
       "    <tr>\n",
       "      <th>0</th>\n",
       "      <td>1</td>\n",
       "      <td>17</td>\n",
       "      <td>0</td>\n",
       "      <td>normal</td>\n",
       "    </tr>\n",
       "    <tr>\n",
       "      <th>1</th>\n",
       "      <td>9</td>\n",
       "      <td>11</td>\n",
       "      <td>1</td>\n",
       "      <td>normal</td>\n",
       "    </tr>\n",
       "    <tr>\n",
       "      <th>2</th>\n",
       "      <td>8</td>\n",
       "      <td>5</td>\n",
       "      <td>1</td>\n",
       "      <td>normal</td>\n",
       "    </tr>\n",
       "    <tr>\n",
       "      <th>3</th>\n",
       "      <td>6</td>\n",
       "      <td>16</td>\n",
       "      <td>3</td>\n",
       "      <td>normal</td>\n",
       "    </tr>\n",
       "    <tr>\n",
       "      <th>4</th>\n",
       "      <td>2</td>\n",
       "      <td>6</td>\n",
       "      <td>0</td>\n",
       "      <td>low</td>\n",
       "    </tr>\n",
       "  </tbody>\n",
       "</table>\n",
       "</div>"
      ],
      "text/plain": [
       "   a   b  c       y\n",
       "0  1  17  0  normal\n",
       "1  9  11  1  normal\n",
       "2  8   5  1  normal\n",
       "3  6  16  3  normal\n",
       "4  2   6  0     low"
      ]
     },
     "execution_count": 3,
     "metadata": {},
     "output_type": "execute_result"
    }
   ],
   "source": [
    "df = CreateDataFrame(200)\n",
    "df.head()\n"
   ]
  },
  {
   "cell_type": "code",
   "execution_count": 5,
   "metadata": {},
   "outputs": [],
   "source": [
    "X = df[[\"a\",\"b\",\"c\"]]\n",
    "Y = df[[\"y\"]]\n",
    "Xtrain, Xtest, ytrain, ytest = train_test_split(X, Y, random_state=0)"
   ]
  },
  {
   "cell_type": "code",
   "execution_count": 6,
   "metadata": {},
   "outputs": [
    {
     "name": "stdout",
     "output_type": "stream",
     "text": [
      "0.94\n",
      "[[ 3  0  1]\n",
      " [ 0  9  1]\n",
      " [ 0  1 35]]\n"
     ]
    }
   ],
   "source": [
    "# build and train GradientBoostingClassifier model\n",
    "gbc = GradientBoostingClassifier(n_estimators=100, learning_rate=0.5, max_depth=1)\n",
    "gbc.fit(Xtrain, np.ravel(ytrain, order='C'))\n",
    "ypred = gbc.predict(Xtest)\n",
    "print(gbc.score(Xtest, ytest))\n",
    "print(confusion_matrix(ytest, ypred)) "
   ]
  },
  {
   "cell_type": "code",
   "execution_count": 7,
   "metadata": {},
   "outputs": [
    {
     "name": "stdout",
     "output_type": "stream",
     "text": [
      "Learning rate:  0.01   Accuracy:  0.76\n",
      "Confusion matrix:\n",
      "[[ 0  0  4]\n",
      " [ 0  6  4]\n",
      " [ 0  4 32]]\n",
      "Learning rate:  0.05   Accuracy:  0.84\n",
      "Confusion matrix:\n",
      "[[ 2  0  2]\n",
      " [ 0  6  4]\n",
      " [ 1  1 34]]\n",
      "Learning rate:  0.1   Accuracy:  0.88\n",
      "Confusion matrix:\n",
      "[[ 2  0  2]\n",
      " [ 0  8  2]\n",
      " [ 1  1 34]]\n",
      "Learning rate:  0.5   Accuracy:  0.94\n",
      "Confusion matrix:\n",
      "[[ 3  0  1]\n",
      " [ 0  9  1]\n",
      " [ 0  1 35]]\n",
      "Learning rate:  1   Accuracy:  0.94\n",
      "Confusion matrix:\n",
      "[[ 4  0  0]\n",
      " [ 0  9  1]\n",
      " [ 0  2 34]]\n"
     ]
    }
   ],
   "source": [
    "# find optimal learning rate value\n",
    "learning_rate =  [0.01, 0.05, 0.1, 0.5, 1];\n",
    "for n in learning_rate:\n",
    " gbc = GradientBoostingClassifier(n_estimators=100, learning_rate=n, max_depth=1)\n",
    " gbc.fit(Xtrain, np.ravel(ytrain, order='C'))\n",
    " ypred = gbc.predict(Xtest)\n",
    " acc=gbc.score(Xtest, ytest) \n",
    " print(\"Learning rate: \",n, \"  Accuracy: \", acc)\n",
    " print(\"Confusion matrix:\")\n",
    " print(confusion_matrix(ytest, ypred))"
   ]
  },
  {
   "cell_type": "code",
   "execution_count": 8,
   "metadata": {},
   "outputs": [
    {
     "name": "stdout",
     "output_type": "stream",
     "text": [
      "Number of estimators:  10   Accuracy:  0.9\n",
      "Confusion matrix:\n",
      "[[ 3  0  1]\n",
      " [ 0  9  1]\n",
      " [ 1  2 33]]\n",
      "Number of estimators:  50   Accuracy:  0.92\n",
      "Confusion matrix:\n",
      "[[ 3  0  1]\n",
      " [ 0  9  1]\n",
      " [ 0  2 34]]\n",
      "Number of estimators:  100   Accuracy:  0.94\n",
      "Confusion matrix:\n",
      "[[ 4  0  0]\n",
      " [ 0  9  1]\n",
      " [ 0  2 34]]\n",
      "Number of estimators:  200   Accuracy:  0.94\n",
      "Confusion matrix:\n",
      "[[ 4  0  0]\n",
      " [ 0  9  1]\n",
      " [ 0  2 34]]\n",
      "Number of estimators:  500   Accuracy:  0.94\n",
      "Confusion matrix:\n",
      "[[ 4  0  0]\n",
      " [ 0  9  1]\n",
      " [ 0  2 34]]\n"
     ]
    }
   ],
   "source": [
    "# find optimal number of estimators\n",
    "estimators =  [10,50,100,200,500];\n",
    "for e in estimators:\n",
    " gbc = GradientBoostingClassifier(n_estimators=e, learning_rate=1, max_depth=1)\n",
    " gbc.fit(Xtrain, np.ravel(ytrain, order='C'))\n",
    " ypred = gbc.predict(Xtest)\n",
    " acc=gbc.score(Xtest, ytest) \n",
    " print(\"Number of estimators: \",e, \"  Accuracy: \", acc)\n",
    " print(\"Confusion matrix:\")\n",
    " print(confusion_matrix(ytest, ypred)) "
   ]
  },
  {
   "cell_type": "code",
   "execution_count": null,
   "metadata": {},
   "outputs": [],
   "source": []
  }
 ],
 "metadata": {
  "kernelspec": {
   "display_name": "Python 3",
   "language": "python",
   "name": "python3"
  },
  "language_info": {
   "codemirror_mode": {
    "name": "ipython",
    "version": 3
   },
   "file_extension": ".py",
   "mimetype": "text/x-python",
   "name": "python",
   "nbconvert_exporter": "python",
   "pygments_lexer": "ipython3",
   "version": "3.8.3"
  }
 },
 "nbformat": 4,
 "nbformat_minor": 4
}
