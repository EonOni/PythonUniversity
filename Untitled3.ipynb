{
 "cells": [
  {
   "cell_type": "markdown",
   "metadata": {},
   "source": [
    "20 задача - Дана матрица размера M ×N. Для каждого столбца матрицы найти произведение его элементов."
   ]
  },
  {
   "cell_type": "code",
   "execution_count": 1,
   "metadata": {},
   "outputs": [
    {
     "name": "stdout",
     "output_type": "stream",
     "text": [
      "M =  2 ; N =  5\n",
      "[[2. 2. 4. 4. 2.]\n",
      " [2. 3. 4. 4. 1.]]\n",
      "[ 4.  6. 16. 16.  2.]\n"
     ]
    }
   ],
   "source": [
    "import random\n",
    "import numpy as np\n",
    "M = random.randrange(2,7)\n",
    "N = random.randrange(2,7)\n",
    "K = random.randrange(0,N)\n",
    "print(\"M = \",M,\"; N = \",N)\n",
    "a = np.zeros((M, N))\n",
    "for i in range(M):\n",
    "    for j in range(N):\n",
    "        a[i][j] = random.randrange(1,5)\n",
    "print(a)\n",
    "b = a.prod(0)\n",
    "print(b)"
   ]
  },
  {
   "cell_type": "markdown",
   "metadata": {},
   "source": [
    "21 задача - Дана матрица размера M×N. Для каждой строки матрицы с нечетным номером (1, 3, ...) найти среднее арифметическое ее элементов. Условный оператор не использовать."
   ]
  },
  {
   "cell_type": "code",
   "execution_count": 4,
   "metadata": {},
   "outputs": [
    {
     "name": "stdout",
     "output_type": "stream",
     "text": [
      "M =  2 ; N =  6\n",
      "[[0 3 3 3 3 1]\n",
      " [4 0 3 0 3 1]]\n",
      "\n",
      "[[4 0 3 0 3 1]]\n",
      "Row: [4 0 3 0 3 1]\n",
      "Mean: 1.8333333333333333\n"
     ]
    }
   ],
   "source": [
    "M = random.randrange(2,8)\n",
    "N = random.randrange(2,8)\n",
    "print(\"M = \",M,\"; N = \",N)\n",
    "a = np.random.randint(5, size=(M, N))\n",
    "print(a)\n",
    "\n",
    "b = a[1::2]\n",
    "print()\n",
    "print(b)\n",
    "for x in b:\n",
    "    print(\"Row:\",x)\n",
    "    print(\"Mean:\",np.mean(x))"
   ]
  },
  {
   "cell_type": "markdown",
   "metadata": {},
   "source": [
    "22 задача - Дана матрица размера M×N. Для каждого столбца матрицы с четным номером (2, 4, ...) найти сумму его элементов. Условный оператор не использовать."
   ]
  },
  {
   "cell_type": "code",
   "execution_count": 3,
   "metadata": {},
   "outputs": [
    {
     "name": "stdout",
     "output_type": "stream",
     "text": [
      "M =  5 ; N =  2\n",
      "[[1 4]\n",
      " [2 1]\n",
      " [2 2]\n",
      " [1 1]\n",
      " [2 3]]\n",
      "\n",
      "Odd columns:\n",
      "[[1]\n",
      " [2]\n",
      " [2]\n",
      " [1]\n",
      " [2]]\n",
      "[1.6]\n",
      "\n",
      "Column: [1 2 2 1 2]\n",
      "Mean: 1.6\n"
     ]
    }
   ],
   "source": [
    "M = random.randrange(2,8)\n",
    "N = random.randrange(2,8)\n",
    "print(\"M = \",M,\"; N = \",N)\n",
    "a = np.random.randint(5, size=(M, N))\n",
    "print(a)\n",
    "\n",
    "b = a[:,0::2]\n",
    "print()\n",
    "print(\"Odd columns:\")\n",
    "print(b)\n",
    "print(b.mean(axis=0))\n",
    "\n",
    "print()\n",
    "b = b.transpose()\n",
    "for x in b:\n",
    "    print(\"Column:\",x)\n",
    "    print(\"Mean:\",np.mean(x))"
   ]
  },
  {
   "cell_type": "markdown",
   "metadata": {},
   "source": [
    "23 задача - Дана матрица размера M×N. В каждой строке матрицы найти минимальный элемент."
   ]
  },
  {
   "cell_type": "code",
   "execution_count": 5,
   "metadata": {},
   "outputs": [
    {
     "name": "stdout",
     "output_type": "stream",
     "text": [
      "M =  7 ; N =  6\n",
      "[[3 2 0 2 2 3]\n",
      " [3 1 1 0 2 1]\n",
      " [4 0 4 4 4 0]\n",
      " [3 2 4 1 1 0]\n",
      " [2 3 1 4 1 2]\n",
      " [1 0 4 1 4 4]\n",
      " [0 0 3 1 1 4]]\n",
      "\n",
      "Row: [3 2 0 2 2 3]\n",
      "Minimum: 0\n",
      "Row: [3 1 1 0 2 1]\n",
      "Minimum: 0\n",
      "Row: [4 0 4 4 4 0]\n",
      "Minimum: 0\n",
      "Row: [3 2 4 1 1 0]\n",
      "Minimum: 0\n",
      "Row: [2 3 1 4 1 2]\n",
      "Minimum: 1\n",
      "Row: [1 0 4 1 4 4]\n",
      "Minimum: 0\n",
      "Row: [0 0 3 1 1 4]\n",
      "Minimum: 0\n"
     ]
    }
   ],
   "source": [
    "M = random.randrange(2,8)\n",
    "N = random.randrange(2,8)\n",
    "print(\"M = \",M,\"; N = \",N)\n",
    "a = np.random.randint(5, size=(M, N))\n",
    "print(a)\n",
    "\n",
    "print()\n",
    "for x in a:\n",
    "    print(\"Row:\",x)\n",
    "    print(\"Minimum:\",min(x))"
   ]
  },
  {
   "cell_type": "markdown",
   "metadata": {},
   "source": [
    "24 задача - Дана матрица размера M×N. В каждом столбце матрицы найти максимальный элемент."
   ]
  },
  {
   "cell_type": "code",
   "execution_count": 6,
   "metadata": {},
   "outputs": [
    {
     "name": "stdout",
     "output_type": "stream",
     "text": [
      "M =  2 ; N =  3\n",
      "[[0 0 3]\n",
      " [0 1 0]]\n",
      "\n",
      "Column: [0 0]\n",
      "Maximum: 0\n",
      "Column: [0 1]\n",
      "Maximum: 1\n",
      "Column: [3 0]\n",
      "Maximum: 3\n"
     ]
    }
   ],
   "source": [
    "M = random.randrange(2,8)\n",
    "N = random.randrange(2,8)\n",
    "print(\"M = \",M,\"; N = \",N)\n",
    "a = np.random.randint(5, size=(M, N))\n",
    "print(a)\n",
    "\n",
    "print()\n",
    "for j in range(N):\n",
    "    x = a[:,j]\n",
    "    print(\"Column:\",x)\n",
    "    print(\"Maximum:\",max(x))"
   ]
  },
  {
   "cell_type": "code",
   "execution_count": null,
   "metadata": {},
   "outputs": [],
   "source": []
  }
 ],
 "metadata": {
  "kernelspec": {
   "display_name": "Python 3",
   "language": "python",
   "name": "python3"
  },
  "language_info": {
   "codemirror_mode": {
    "name": "ipython",
    "version": 3
   },
   "file_extension": ".py",
   "mimetype": "text/x-python",
   "name": "python",
   "nbconvert_exporter": "python",
   "pygments_lexer": "ipython3",
   "version": "3.8.3"
  }
 },
 "nbformat": 4,
 "nbformat_minor": 4
}
